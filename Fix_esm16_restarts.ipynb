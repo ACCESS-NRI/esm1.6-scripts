{
 "cells": [
  {
   "cell_type": "code",
   "execution_count": 1,
   "id": "0248ff43-e1dd-4c3e-8a99-dfd16bdea216",
   "metadata": {},
   "outputs": [],
   "source": [
    "#!/usr/bin/env python\n",
    "\n",
    "import sys\n",
    "import os\n",
    "import argparse\n",
    "import shutil\n",
    "import numpy as np\n",
    "import netCDF4 as nc\n",
    "import multiprocessing as mp\n",
    "from glob import glob\n",
    "import xarray as xr\n",
    "import matplotlib.pyplot as plt\n",
    "import pandas as pd\n"
   ]
  },
  {
   "cell_type": "code",
   "execution_count": 2,
   "id": "476affcb-e7e4-4e9f-9a59-26ae0356e275",
   "metadata": {},
   "outputs": [],
   "source": [
    "def fill_nan_with_last_valid_inplace(file_path):\n",
    "    print(f\"Processing file (in-place): {file_path}\")\n",
    "\n",
    "    with nc.Dataset(file_path, 'r+') as ds:\n",
    "        for var_name, varin in ds.variables.items():\n",
    "            if varin.ndim != 4 or varin.shape[0] == 0:\n",
    "                continue  # skip variables that are not 4D or have no time dimension\n",
    "\n",
    "            print(f\"  Filling variable: {var_name}\")\n",
    "            data = varin[0, :, :, :]  # time index 0, shape (levels, lat, lon)\n",
    "            filled_data = data.copy()\n",
    "\n",
    "            nlev, nlat, nlon = data.shape\n",
    "\n",
    "            for i in range(nlat):\n",
    "                for j in range(nlon):\n",
    "                    column = data[:, i, j]\n",
    "                    last_valid = None\n",
    "                    for k in range(nlev):\n",
    "                        if column[k] != 0.0:\n",
    "                            last_valid = column[k]\n",
    "                        elif last_valid is not None:\n",
    "                            filled_data[k, i, j] = last_valid\n",
    "\n",
    "            varin[0, :, :, :] = filled_data"
   ]
  },
  {
   "cell_type": "code",
   "execution_count": 2,
   "id": "ce6df083-681a-447e-b899-035d1f1fd760",
   "metadata": {},
   "outputs": [],
   "source": [
    "input_dir = '/g/data/tm70/ek4684/esm16_bathy_tests/archive/restart830/ocean/'\n",
    "input_files = glob(os.path.join(input_dir, 'ocean_density.res.nc'))\n",
    "input_files.sort()"
   ]
  },
  {
   "cell_type": "code",
   "execution_count": 3,
   "id": "893b2b84-d9cc-42b8-ba99-422ce341b6b8",
   "metadata": {},
   "outputs": [
    {
     "data": {
      "text/plain": [
       "['/g/data/tm70/ek4684/esm16_bathy_tests/archive/restart830/ocean/ocean_density.res.nc']"
      ]
     },
     "execution_count": 3,
     "metadata": {},
     "output_type": "execute_result"
    }
   ],
   "source": [
    "input_files"
   ]
  },
  {
   "cell_type": "code",
   "execution_count": 4,
   "id": "575e8aeb-a93c-4e31-b07d-f4d3f2828e6d",
   "metadata": {},
   "outputs": [
    {
     "ename": "NameError",
     "evalue": "name 'fill_nan_with_last_valid_inplace' is not defined",
     "output_type": "error",
     "traceback": [
      "\u001b[0;31m---------------------------------------------------------------------------\u001b[0m",
      "\u001b[0;31mNameError\u001b[0m                                 Traceback (most recent call last)",
      "Cell \u001b[0;32mIn[4], line 4\u001b[0m\n\u001b[1;32m      2\u001b[0m nprocs \u001b[38;5;241m=\u001b[39m \u001b[38;5;241m7\u001b[39m\n\u001b[1;32m      3\u001b[0m \u001b[38;5;28;01mwith\u001b[39;00m mp\u001b[38;5;241m.\u001b[39mPool(nprocs) \u001b[38;5;28;01mas\u001b[39;00m pool:\n\u001b[0;32m----> 4\u001b[0m     pool\u001b[38;5;241m.\u001b[39mmap(\u001b[43mfill_nan_with_last_valid_inplace\u001b[49m, input_files)\n",
      "\u001b[0;31mNameError\u001b[0m: name 'fill_nan_with_last_valid_inplace' is not defined"
     ]
    }
   ],
   "source": [
    "# Number of processes\n",
    "nprocs = 7\n",
    "with mp.Pool(nprocs) as pool:\n",
    "    pool.map(fill_nan_with_last_valid_inplace, input_files)"
   ]
  },
  {
   "cell_type": "code",
   "execution_count": 5,
   "id": "34b81ff1-1e7e-4624-be25-99a697e49243",
   "metadata": {},
   "outputs": [
    {
     "data": {
      "image/png": "[encoded data removed]",
      "text/plain": [
       "<Figure size 500x600 with 1 Axes>"
      ]
     },
     "metadata": {},
     "output_type": "display_data"
    }
   ],
   "source": [
    "# Load file\n",
    "file = os.path.join(input_dir, os.path.basename('ocean_velocity.res.nc'))\n",
    "ds = nc.Dataset(file)\n",
    "\n",
    "# Extract variables\n",
    "age = ds.variables['v'][0]  # Shape: (z, y, x)\n",
    "z = ds.variables['zaxis_1'][:]\n",
    "\n",
    "# Choose a sample (lat, lon) location\n",
    "lat_idx = 291  # midpoint\n",
    "lon_idx = 204  # midpoint\n",
    "\n",
    "profile = age[:, lat_idx, lon_idx]\n",
    "\n",
    "plt.figure(figsize=(5, 6))\n",
    "plt.plot(profile, z)\n",
    "#plt.gca().invert_yaxis()\n",
    "plt.title(f\"Vertical Profile at (y={lat_idx}, x={lon_idx})\")\n",
    "plt.xlabel(\"u\")\n",
    "plt.ylabel(\"Depth Level\")\n",
    "plt.grid(True)\n",
    "plt.tight_layout()\n",
    "plt.show()"
   ]
  },
  {
   "cell_type": "code",
   "execution_count": 12,
   "id": "899df49c-712f-4930-ba1a-33f5807cdbdc",
   "metadata": {},
   "outputs": [
    {
     "data": {
      "text/plain": [
       "'/g/data/tm70/ek4684/esm16_bathy_tests/archive/restart830/ocean/ocean_velocity.res.nc'"
      ]
     },
     "execution_count": 12,
     "metadata": {},
     "output_type": "execute_result"
    }
   ],
   "source": [
    "file"
   ]
  },
  {
   "cell_type": "code",
   "execution_count": null,
   "id": "b3f1ebdb-cddf-43e1-9dc7-37c30b663a2c",
   "metadata": {},
   "outputs": [],
   "source": []
  }
 ],
 "metadata": {
  "kernelspec": {
   "display_name": "Python (analysis3-24.04)",
   "language": "python",
   "name": "analysis3-24.04"
  },
  "language_info": {
   "codemirror_mode": {
    "name": "ipython",
    "version": 3
   },
   "file_extension": ".py",
   "mimetype": "text/x-python",
   "name": "python",
   "nbconvert_exporter": "python",
   "pygments_lexer": "ipython3",
   "version": "3.10.14"
  }
 },
 "nbformat": 4,
 "nbformat_minor": 5
}
